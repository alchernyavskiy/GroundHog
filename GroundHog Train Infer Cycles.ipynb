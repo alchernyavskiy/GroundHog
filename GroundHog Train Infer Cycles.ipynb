{
 "cells": [
  {
   "cell_type": "code",
   "execution_count": 1,
   "metadata": {},
   "outputs": [],
   "source": [
    "from train_eval_scripts_v2 import run_train, run_eval"
   ]
  },
  {
   "cell_type": "code",
   "execution_count": null,
   "metadata": {},
   "outputs": [],
   "source": []
  },
  {
   "cell_type": "markdown",
   "metadata": {},
   "source": [
    "## Liguistic importance"
   ]
  },
  {
   "cell_type": "code",
   "execution_count": null,
   "metadata": {},
   "outputs": [],
   "source": [
    "device = 'cuda:0'\n",
    "\n",
    "max_encoder_length = 256\n",
    "source_cols_lists = [\n",
    "    ([\"history#title\", \"history\", \"title\"], 'response'), #NO grounding\n",
    "    ([\"history#title#grounding\", \"history\", \"title\", \"grounding\"], 'response'), #NO LINGUSTIC\n",
    "    #([\"history_aug_disco#title#grounding\", \"history_aug_disco\", \"title\", \"grounding\", 'history_discourse'], 'response'), # +Discourse\n",
    "    ([\"history_aug_disco#title#grounding\", \"history_aug_disco\", \"title\", \"grounding\", 'history_discourse', 'history_amr', 'addr_amr'], 'response') # +AMR\n",
    "] \n",
    "\n",
    "for source_cols, target_col in source_cols_lists:\n",
    "    model_name_or_path = run_train(source_cols=source_cols,\n",
    "                  target_col=target_col, #\"response_aug\",\n",
    "                  max_encoder_length=max_encoder_length,\n",
    "                  n_epochs=4, learning_rate=3e-5, batch_size=4, gradient_accumulation_steps=2, device=device)\n",
    "\n",
    "    #run_eval(model_name_or_path, device=device)"
   ]
  },
  {
   "cell_type": "code",
   "execution_count": null,
   "metadata": {},
   "outputs": [],
   "source": [
    "device = 'cuda:0'\n",
    "\n",
    "max_encoder_length = 256\n",
    "source_cols_lists = [\n",
    "    ([\"history_aug#title#grounding\", \"history_aug\", \"title\", \"grounding\", 'history_discourse', 'history_amr', 'addr_amr'], 'response'), # +sentiment\n",
    "    ([\"history_aug#title#grounding\", \"history_aug\", \"title\", \"grounding\", 'history_discourse', 'history_amr', 'addr_amr'], 'response_disco'), # +planning disco\n",
    "    ([\"history_aug#title#grounding\", \"history_aug\", \"title\", \"grounding\", 'history_discourse', 'history_amr', 'addr_amr'], 'response_aug') # +planning full\n",
    "] \n",
    "\n",
    "for source_cols, target_col in source_cols_lists:\n",
    "    model_name_or_path = run_train(source_cols=source_cols,\n",
    "                  target_col=target_col, #\"response_aug\",\n",
    "                  max_encoder_length=max_encoder_length,\n",
    "                  n_epochs=4, learning_rate=3e-5, batch_size=4, gradient_accumulation_steps=2, device=device)\n",
    "\n",
    "    #run_eval(model_name_or_path, device=device)"
   ]
  },
  {
   "cell_type": "code",
   "execution_count": null,
   "metadata": {},
   "outputs": [],
   "source": []
  },
  {
   "cell_type": "code",
   "execution_count": null,
   "metadata": {},
   "outputs": [],
   "source": []
  },
  {
   "cell_type": "markdown",
   "metadata": {},
   "source": [
    "## Planning importance"
   ]
  },
  {
   "cell_type": "code",
   "execution_count": 2,
   "metadata": {},
   "outputs": [],
   "source": [
    "device = 'cuda:0'\n",
    "\n",
    "max_encoder_length = 256"
   ]
  },
  {
   "cell_type": "code",
   "execution_count": null,
   "metadata": {},
   "outputs": [],
   "source": [
    "#no planning\n",
    "model_name_or_path = run_train(source_cols=[\"history_aug#title#grounding\", \"grounding\",\n",
    "                                            'history_amr', 'addr_amr', 'history_discourse'],\n",
    "      target_col=\"response\",\n",
    "      max_encoder_length=max_encoder_length,\n",
    "      n_epochs=7, learning_rate=3e-5, batch_size=4, gradient_accumulation_steps=2, device=device)"
   ]
  },
  {
   "cell_type": "code",
   "execution_count": 3,
   "metadata": {},
   "outputs": [],
   "source": [
    "#no lingustic at all\n",
    "model_name_or_path = run_train(source_cols=[\"history#title#grounding\", \"title\", \"grounding\"],\n",
    "      target_col=\"response\",\n",
    "      max_encoder_length=max_encoder_length,\n",
    "      n_epochs=7, learning_rate=3e-5, batch_size=4, gradient_accumulation_steps=2, device=device)"
   ]
  },
  {
   "cell_type": "code",
   "execution_count": null,
   "metadata": {},
   "outputs": [],
   "source": []
  },
  {
   "cell_type": "code",
   "execution_count": null,
   "metadata": {},
   "outputs": [],
   "source": []
  },
  {
   "cell_type": "markdown",
   "metadata": {},
   "source": [
    "## Inference cycle"
   ]
  },
  {
   "cell_type": "code",
   "execution_count": 1,
   "metadata": {},
   "outputs": [],
   "source": [
    "import os\n",
    "import pandas as pd\n",
    "import pickle\n",
    "import re\n",
    "import string\n",
    "import subprocess\n",
    "from tqdm import tqdm\n",
    "\n",
    "import warnings\n",
    "warnings.filterwarnings(\"ignore\")\n",
    "\n",
    "import torch\n",
    "import numpy as np\n",
    "\n",
    "import sys\n",
    "sys.path.insert(0, 'multienc_bart_scripts_v2/')\n",
    "sys.modules['transformers.generation_utils'] = __import__('generation_utils_custom')\n",
    "\n",
    "from modeling_custom_bart import BartForConditionalGeneration\n",
    "from transformers import BartTokenizer"
   ]
  },
  {
   "cell_type": "code",
   "execution_count": 2,
   "metadata": {},
   "outputs": [],
   "source": [
    "source_lens = {\n",
    "    'history': 600,\n",
    "    'history_aug': 600,\n",
    "    'history_aug_disco': 600,\n",
    "    'history_amr': 1024,\n",
    "    'history_discourse': 40,\n",
    "    'addr_amr': 300,\n",
    "    'response': 160,\n",
    "    'response_aug': 160,\n",
    "    'response_disco': 160,\n",
    "    'grounding': 850,\n",
    "    'title': 64,\n",
    "    \"history_aug#title#grounding\": 1024,\n",
    "    \"history_aug_disco#title#grounding\": 1024,\n",
    "    \"history#title#grounding\": 1024,\n",
    "    \"history#title#grounding\": 1024,\n",
    "    \"history#title\": 600\n",
    "}"
   ]
  },
  {
   "cell_type": "code",
   "execution_count": 3,
   "metadata": {},
   "outputs": [],
   "source": [
    "def generate_top(input_texts, num_beams=4,  max_source_lens=[300, 200, 100], max_target_length=64,\n",
    "                 top_k=50, top_p=1, temperature=1., do_sample=False):\n",
    "    model_inputs_list = [tokenizer([input_texts[j]], max_length=max_source_lens[j],\n",
    "                          padding=\"max_length\" , truncation=True) for j in range(len(input_texts))]\n",
    "\n",
    "    model_inputs = {}\n",
    "    for key in model_inputs_list[0]:\n",
    "        model_inputs[key] = [sum(el, []) for el in zip(*[model_inputs_list[j][key] for j in range(len(model_inputs_list))])]\n",
    "\n",
    "    input_ids = torch.LongTensor(model_inputs['input_ids']).to(device)\n",
    "    \n",
    "    summary_ids = model.generate(input_ids, do_sample=do_sample, num_beams=num_beams,\n",
    "                                 max_length=max_target_length, top_k=top_k, top_p=top_p, temperature=temperature)\n",
    "    pred = tokenizer.batch_decode(summary_ids, clean_up_tokenization_spaces=False)[0]\n",
    "    pred = re.sub(r'\\s+', ' ', pred).replace('</s>', '').replace('<s>', '').strip()\n",
    "    return pred"
   ]
  },
  {
   "cell_type": "code",
   "execution_count": 4,
   "metadata": {},
   "outputs": [],
   "source": [
    "device = 'cpu'#'cuda:0'"
   ]
  },
  {
   "cell_type": "code",
   "execution_count": null,
   "metadata": {},
   "outputs": [],
   "source": []
  },
  {
   "cell_type": "code",
   "execution_count": null,
   "metadata": {},
   "outputs": [],
   "source": []
  },
  {
   "cell_type": "code",
   "execution_count": 5,
   "metadata": {},
   "outputs": [],
   "source": [
    "chpath = 'multiencoder_bart_v2_bs8_4ep_lr3e-05_enclen256__from:history_aug#title#grounding-grounding-history_amr-addr_amr-history_discourse___to:response'"
   ]
  },
  {
   "cell_type": "code",
   "execution_count": null,
   "metadata": {},
   "outputs": [
    {
     "name": "stdout",
     "output_type": "stream",
     "text": [
      "CUSTOM BART\n"
     ]
    },
    {
     "name": "stderr",
     "output_type": "stream",
     "text": [
      "100%|██████████| 15716/15716 [1:53:55<00:00,  2.30it/s]  \n"
     ]
    },
    {
     "name": "stdout",
     "output_type": "stream",
     "text": [
      "CUSTOM BART\n"
     ]
    },
    {
     "name": "stderr",
     "output_type": "stream",
     "text": [
      "100%|██████████| 15716/15716 [2:12:55<00:00,  1.97it/s]  \n"
     ]
    },
    {
     "name": "stdout",
     "output_type": "stream",
     "text": [
      "CUSTOM BART\n"
     ]
    },
    {
     "name": "stderr",
     "output_type": "stream",
     "text": [
      "100%|██████████| 15716/15716 [2:08:49<00:00,  2.03it/s]  \n"
     ]
    },
    {
     "name": "stdout",
     "output_type": "stream",
     "text": [
      "CUSTOM BART\n"
     ]
    },
    {
     "name": "stderr",
     "output_type": "stream",
     "text": [
      " 39%|███▉      | 6100/15716 [50:12<1:26:50,  1.85it/s]"
     ]
    }
   ],
   "source": [
    "for path in os.listdir('checkpoint'):\n",
    "#for path in ['multiencoder_bart_v2_bs8_7ep_lr3e-05_enclen1__from:history_aug#title#grounding-title-grounding___to:response_aug']:\n",
    "#for path in [chpath]:\n",
    "    if '_v2_' in path:\n",
    "        model_name_or_path = f'checkpoint/{path}'\n",
    "        save_name = model_name_or_path.replace('checkpoint/', 'predictions/').replace('/checkpoint', '_') + 'short.pkl'\n",
    "        if save_name.replace('predictions/', '') not in os.listdir('predictions'):\n",
    "            try:\n",
    "                tokenizer = BartTokenizer.from_pretrained(model_name_or_path)\n",
    "                model = BartForConditionalGeneration.from_pretrained(model_name_or_path).train(False)\n",
    "\n",
    "                model.to(device)\n",
    "\n",
    "                source_cols = model_name_or_path.split('/')[1].split('__')[1][5:].split('-')\n",
    "                target_col = model_name_or_path.split('/')[1].split('__')[-1][4:]\n",
    "                max_encoder_length = int(re.findall(r'enclen(\\d+)\\D', model_name_or_path)[0])\n",
    "\n",
    "                max_source_lengths = [source_lens[c] for c in source_cols]\n",
    "                max_target_length = source_lens[target_col]\n",
    "\n",
    "                #test_data = pd.read_csv(\"bart_input/val_reddit_dial_df_multi_extented.csv\", sep='\\t')\n",
    "                #test_data = pd.read_csv(\"bart_input/val_reddit_dial_df_multi_extented_filt.csv\", sep='\\t')\n",
    "                test_data = pd.read_csv(\"bart_input/val_reddit_dial_df_multi_extented_short.csv\", sep='\\t')\n",
    "                preds = []\n",
    "\n",
    "                for idx in tqdm(range(len(test_data))):\n",
    "                    input_texts = list(test_data[source_cols].values[idx])\n",
    "                    try:\n",
    "                        pred = generate_top(input_texts,\n",
    "                                            num_beams=1,\n",
    "                                            max_source_lens=max_source_lengths,\n",
    "                                            max_target_length=max_target_length,\n",
    "                                            do_sample=True)\n",
    "                    except:\n",
    "                        pred = \"\"\n",
    "\n",
    "                    preds.append(pred)\n",
    "\n",
    "                with open(save_name, 'wb') as f:\n",
    "                    pickle.dump(preds, f)\n",
    "\n",
    "            except:\n",
    "                continue"
   ]
  },
  {
   "cell_type": "code",
   "execution_count": null,
   "metadata": {},
   "outputs": [],
   "source": []
  },
  {
   "cell_type": "code",
   "execution_count": null,
   "metadata": {},
   "outputs": [],
   "source": []
  },
  {
   "cell_type": "code",
   "execution_count": null,
   "metadata": {},
   "outputs": [],
   "source": []
  },
  {
   "cell_type": "code",
   "execution_count": null,
   "metadata": {},
   "outputs": [],
   "source": []
  },
  {
   "cell_type": "markdown",
   "metadata": {},
   "source": [
    "### Single Generations"
   ]
  },
  {
   "cell_type": "code",
   "execution_count": 17,
   "metadata": {},
   "outputs": [],
   "source": [
    "chpath = 'multiencoder_bart_v2_bs8_4ep_lr3e-05_enclen256__from:history_aug#title#grounding-history_aug-title-grounding-history_discourse-history_amr-addr_amr___to:response'"
   ]
  },
  {
   "cell_type": "code",
   "execution_count": 27,
   "metadata": {},
   "outputs": [],
   "source": [
    "chpath = 'multiencoder_bart_v2_bs8_4ep_lr3e-05_enclen256__from:history_aug_disco#title#grounding-history_aug_disco-title-grounding-history_discourse___to:response'"
   ]
  },
  {
   "cell_type": "code",
   "execution_count": 28,
   "metadata": {},
   "outputs": [
    {
     "name": "stdout",
     "output_type": "stream",
     "text": [
      "CUSTOM BART\n"
     ]
    }
   ],
   "source": [
    "model_name_or_path = f'checkpoint/{chpath}'\n",
    "tokenizer = BartTokenizer.from_pretrained(model_name_or_path)\n",
    "model = BartForConditionalGeneration.from_pretrained(model_name_or_path).train(False)\n",
    "\n",
    "model.to(device)\n",
    "\n",
    "source_cols = model_name_or_path.split('/')[1].split('__')[1][5:].split('-')\n",
    "target_col = model_name_or_path.split('/')[1].split('__')[-1][4:]\n",
    "max_encoder_length = int(re.findall(r'enclen(\\d+)\\D', model_name_or_path)[0])\n",
    "\n",
    "max_source_lengths = [source_lens[c] for c in source_cols]\n",
    "max_target_length = source_lens[target_col]"
   ]
  },
  {
   "cell_type": "code",
   "execution_count": 51,
   "metadata": {},
   "outputs": [],
   "source": [
    "def generate_custom(input_texts, num_beams=1,\n",
    "                 top_k=50, top_p=1, temperature=1., do_sample=True):\n",
    "    model_inputs_list = [tokenizer([input_texts[j]], max_length=max_source_lengths[j],\n",
    "                          padding=\"max_length\" , truncation=True) for j in range(len(input_texts))]\n",
    "\n",
    "    model_inputs = {}\n",
    "    for key in model_inputs_list[0]:\n",
    "        model_inputs[key] = [sum(el, []) for el in zip(*[model_inputs_list[j][key] for j in range(len(model_inputs_list))])]\n",
    "\n",
    "    input_ids = torch.LongTensor(model_inputs['input_ids']).to(device)\n",
    "    \n",
    "    summary_ids = model.generate(input_ids, do_sample=do_sample, num_beams=num_beams,\n",
    "                                 max_length=max_target_length, top_k=top_k, top_p=top_p, temperature=temperature)\n",
    "    pred = tokenizer.batch_decode(summary_ids, clean_up_tokenization_spaces=False)[0]\n",
    "    pred = re.sub(r'\\s+', ' ', pred).replace('</s>', '').replace('<s>', '').strip()\n",
    "    return pred"
   ]
  },
  {
   "cell_type": "code",
   "execution_count": null,
   "metadata": {},
   "outputs": [],
   "source": []
  },
  {
   "cell_type": "code",
   "execution_count": 67,
   "metadata": {},
   "outputs": [],
   "source": [
    "test_data = pd.read_csv(\"bart_input/val_reddit_dial_df_multi_extented_filt.csv\", sep='\\t')"
   ]
  },
  {
   "cell_type": "code",
   "execution_count": 68,
   "metadata": {
    "scrolled": true
   },
   "outputs": [
    {
     "data": {
      "text/html": [
       "<div>\n",
       "<style scoped>\n",
       "    .dataframe tbody tr th:only-of-type {\n",
       "        vertical-align: middle;\n",
       "    }\n",
       "\n",
       "    .dataframe tbody tr th {\n",
       "        vertical-align: top;\n",
       "    }\n",
       "\n",
       "    .dataframe thead th {\n",
       "        text-align: right;\n",
       "    }\n",
       "</style>\n",
       "<table border=\"1\" class=\"dataframe\">\n",
       "  <thead>\n",
       "    <tr style=\"text-align: right;\">\n",
       "      <th></th>\n",
       "      <th>thread_id</th>\n",
       "      <th>id</th>\n",
       "      <th>history_aug</th>\n",
       "      <th>history_amr</th>\n",
       "      <th>history_discourse</th>\n",
       "      <th>addr_amr</th>\n",
       "      <th>response</th>\n",
       "      <th>response_aug</th>\n",
       "      <th>grounding</th>\n",
       "      <th>title</th>\n",
       "      <th>history</th>\n",
       "      <th>response_disco</th>\n",
       "      <th>history_aug_disco</th>\n",
       "      <th>history_aug_disco#title#grounding</th>\n",
       "      <th>history#title#grounding</th>\n",
       "      <th>history_aug#title#grounding</th>\n",
       "      <th>history#title</th>\n",
       "    </tr>\n",
       "  </thead>\n",
       "  <tbody>\n",
       "    <tr>\n",
       "      <th>0</th>\n",
       "      <td>t3_zq3sz6</td>\n",
       "      <td>t3_zq3sz6_j0xvpbo</td>\n",
       "      <td>&lt;s1&gt; &lt;u1&gt; &lt;to:u1&gt; &lt;init&gt; &lt;Negative&gt; This is an...</td>\n",
       "      <td>( exemplify :ARG0 ( this ) :ARG1 ( disconnect ...</td>\n",
       "      <td>&lt;u1&gt; &lt;to:u1&gt; &lt;init&gt; &lt;/s&gt; &lt;u2&gt; &lt;to:u1&gt; &lt;elabora...</td>\n",
       "      <td>( multi-sentence :snt1 ( be-located-at :ARG1 (...</td>\n",
       "      <td>Yes and lets see if it fails and he leaves aft...</td>\n",
       "      <td>&lt;agreement&gt; &lt;Negative&gt; Yes and lets see if it ...</td>\n",
       "      <td>unk</td>\n",
       "      <td>James Gunn Confronts ‘Uproarious’ DC Backlash:...</td>\n",
       "      <td>&lt;s1&gt; &lt;u1&gt; &lt;to:u1&gt; This is an example of the di...</td>\n",
       "      <td>&lt;agreement&gt; Yes and lets see if it fails and h...</td>\n",
       "      <td>&lt;s1&gt; &lt;u1&gt; &lt;to:u1&gt; &lt;init&gt; This is an example of...</td>\n",
       "      <td>&lt;s1&gt; &lt;u1&gt; &lt;to:u1&gt; &lt;init&gt; This is an example of...</td>\n",
       "      <td>&lt;s1&gt; &lt;u1&gt; &lt;to:u1&gt; This is an example of the di...</td>\n",
       "      <td>&lt;s1&gt; &lt;u1&gt; &lt;to:u1&gt; &lt;init&gt; &lt;Negative&gt; This is an...</td>\n",
       "      <td>&lt;s1&gt; &lt;u1&gt; &lt;to:u1&gt; This is an example of the di...</td>\n",
       "    </tr>\n",
       "    <tr>\n",
       "      <th>1</th>\n",
       "      <td>t3_zq3sz6</td>\n",
       "      <td>t3_zq3sz6_j0z6r1y</td>\n",
       "      <td>&lt;s1&gt; &lt;u1&gt; &lt;to:u1&gt; &lt;init&gt; &lt;Negative&gt; This is an...</td>\n",
       "      <td>( exemplify :ARG0 ( this ) :ARG1 ( disconnect ...</td>\n",
       "      <td>&lt;u1&gt; &lt;to:u1&gt; &lt;init&gt; &lt;/s&gt; &lt;u2&gt; &lt;to:u1&gt; &lt;elabora...</td>\n",
       "      <td>( cause :ARG0 ( have-degree :ARG1 ( build ) :A...</td>\n",
       "      <td>But if he isn't recasting everyone... I don't ...</td>\n",
       "      <td>&lt;disagreement&gt; &lt;Neutral&gt; But if he isn't recas...</td>\n",
       "      <td>unk</td>\n",
       "      <td>James Gunn Confronts ‘Uproarious’ DC Backlash:...</td>\n",
       "      <td>&lt;s1&gt; &lt;u1&gt; &lt;to:u1&gt; This is an example of the di...</td>\n",
       "      <td>&lt;disagreement&gt; But if he isn't recasting every...</td>\n",
       "      <td>&lt;s1&gt; &lt;u1&gt; &lt;to:u1&gt; &lt;init&gt; This is an example of...</td>\n",
       "      <td>&lt;s1&gt; &lt;u1&gt; &lt;to:u1&gt; &lt;init&gt; This is an example of...</td>\n",
       "      <td>&lt;s1&gt; &lt;u1&gt; &lt;to:u1&gt; This is an example of the di...</td>\n",
       "      <td>&lt;s1&gt; &lt;u1&gt; &lt;to:u1&gt; &lt;init&gt; &lt;Negative&gt; This is an...</td>\n",
       "      <td>&lt;s1&gt; &lt;u1&gt; &lt;to:u1&gt; This is an example of the di...</td>\n",
       "    </tr>\n",
       "    <tr>\n",
       "      <th>2</th>\n",
       "      <td>t3_zq3sz6</td>\n",
       "      <td>t3_zq3sz6_j0xh7qu</td>\n",
       "      <td>&lt;s1&gt; &lt;u1&gt; &lt;to:u1&gt; &lt;init&gt; &lt;Negative&gt; This is an...</td>\n",
       "      <td>( exemplify :ARG0 ( this ) :ARG1 ( disconnect ...</td>\n",
       "      <td>&lt;u1&gt; &lt;to:u1&gt; &lt;init&gt; &lt;/s&gt; &lt;u2&gt; &lt;to:u1&gt; &lt;agreement&gt;</td>\n",
       "      <td>( exact ) ( seem :ARG1 ( label :ARG1 ( or ) :A...</td>\n",
       "      <td>Yeah, it makes sense. Like the above comment s...</td>\n",
       "      <td>&lt;agreement&gt; &lt;Negative&gt; Yeah, it makes sense. L...</td>\n",
       "      <td>unk</td>\n",
       "      <td>James Gunn Confronts ‘Uproarious’ DC Backlash:...</td>\n",
       "      <td>&lt;s1&gt; &lt;u1&gt; &lt;to:u1&gt; This is an example of the di...</td>\n",
       "      <td>&lt;agreement&gt; Yeah, it makes sense. Like the abo...</td>\n",
       "      <td>&lt;s1&gt; &lt;u1&gt; &lt;to:u1&gt; &lt;init&gt; This is an example of...</td>\n",
       "      <td>&lt;s1&gt; &lt;u1&gt; &lt;to:u1&gt; &lt;init&gt; This is an example of...</td>\n",
       "      <td>&lt;s1&gt; &lt;u1&gt; &lt;to:u1&gt; This is an example of the di...</td>\n",
       "      <td>&lt;s1&gt; &lt;u1&gt; &lt;to:u1&gt; &lt;init&gt; &lt;Negative&gt; This is an...</td>\n",
       "      <td>&lt;s1&gt; &lt;u1&gt; &lt;to:u1&gt; This is an example of the di...</td>\n",
       "    </tr>\n",
       "    <tr>\n",
       "      <th>3</th>\n",
       "      <td>t3_zq3sz6</td>\n",
       "      <td>t3_zq3sz6_j0x62se</td>\n",
       "      <td>&lt;s1&gt; &lt;u1&gt; &lt;to:u1&gt; &lt;init&gt; &lt;Negative&gt; This is an...</td>\n",
       "      <td>( exemplify :ARG0 ( this ) :ARG1 ( disconnect ...</td>\n",
       "      <td>&lt;u1&gt; &lt;to:u1&gt; &lt;init&gt; &lt;/s&gt; &lt;u2&gt; &lt;to:u1&gt; &lt;agreement&gt;</td>\n",
       "      <td>( exact ) ( seem :ARG1 ( label :ARG1 ( or ) :A...</td>\n",
       "      <td>I liked the Snyder films, Justice League might...</td>\n",
       "      <td>&lt;unk&gt; &lt;Positive&gt; I liked the Snyder films, Jus...</td>\n",
       "      <td>unk</td>\n",
       "      <td>James Gunn Confronts ‘Uproarious’ DC Backlash:...</td>\n",
       "      <td>&lt;s1&gt; &lt;u1&gt; &lt;to:u1&gt; This is an example of the di...</td>\n",
       "      <td>&lt;unk&gt; I liked the Snyder films, Justice League...</td>\n",
       "      <td>&lt;s1&gt; &lt;u1&gt; &lt;to:u1&gt; &lt;init&gt; This is an example of...</td>\n",
       "      <td>&lt;s1&gt; &lt;u1&gt; &lt;to:u1&gt; &lt;init&gt; This is an example of...</td>\n",
       "      <td>&lt;s1&gt; &lt;u1&gt; &lt;to:u1&gt; This is an example of the di...</td>\n",
       "      <td>&lt;s1&gt; &lt;u1&gt; &lt;to:u1&gt; &lt;init&gt; &lt;Negative&gt; This is an...</td>\n",
       "      <td>&lt;s1&gt; &lt;u1&gt; &lt;to:u1&gt; This is an example of the di...</td>\n",
       "    </tr>\n",
       "    <tr>\n",
       "      <th>4</th>\n",
       "      <td>t3_zq3sz6</td>\n",
       "      <td>t3_zq3sz6_j0x1xck</td>\n",
       "      <td>&lt;s1&gt; &lt;u1&gt; &lt;to:u1&gt; &lt;init&gt; &lt;Negative&gt; Not exactl...</td>\n",
       "      <td>( unite :polarity - :ARG1 ( fan :mod ( city ) ...</td>\n",
       "      <td>&lt;u1&gt; &lt;to:u1&gt; &lt;init&gt; &lt;/s&gt; &lt;u2&gt; &lt;to:u1&gt; &lt;disagre...</td>\n",
       "      <td>( contrast :ARG1 ( situation :mod ( win ) :mod...</td>\n",
       "      <td>Fuck 'em.I always said this of politics. The o...</td>\n",
       "      <td>&lt;negativereaction&gt; &lt;Negative&gt; Fuck 'em.I alway...</td>\n",
       "      <td>unk</td>\n",
       "      <td>James Gunn Confronts ‘Uproarious’ DC Backlash:...</td>\n",
       "      <td>&lt;s1&gt; &lt;u1&gt; &lt;to:u1&gt; Not exactly uniting the DC f...</td>\n",
       "      <td>&lt;negativereaction&gt; Fuck 'em.I always said this...</td>\n",
       "      <td>&lt;s1&gt; &lt;u1&gt; &lt;to:u1&gt; &lt;init&gt; Not exactly uniting t...</td>\n",
       "      <td>&lt;s1&gt; &lt;u1&gt; &lt;to:u1&gt; &lt;init&gt; Not exactly uniting t...</td>\n",
       "      <td>&lt;s1&gt; &lt;u1&gt; &lt;to:u1&gt; Not exactly uniting the DC f...</td>\n",
       "      <td>&lt;s1&gt; &lt;u1&gt; &lt;to:u1&gt; &lt;init&gt; &lt;Negative&gt; Not exactl...</td>\n",
       "      <td>&lt;s1&gt; &lt;u1&gt; &lt;to:u1&gt; Not exactly uniting the DC f...</td>\n",
       "    </tr>\n",
       "  </tbody>\n",
       "</table>\n",
       "</div>"
      ],
      "text/plain": [
       "   thread_id                 id  \\\n",
       "0  t3_zq3sz6  t3_zq3sz6_j0xvpbo   \n",
       "1  t3_zq3sz6  t3_zq3sz6_j0z6r1y   \n",
       "2  t3_zq3sz6  t3_zq3sz6_j0xh7qu   \n",
       "3  t3_zq3sz6  t3_zq3sz6_j0x62se   \n",
       "4  t3_zq3sz6  t3_zq3sz6_j0x1xck   \n",
       "\n",
       "                                         history_aug  \\\n",
       "0  <s1> <u1> <to:u1> <init> <Negative> This is an...   \n",
       "1  <s1> <u1> <to:u1> <init> <Negative> This is an...   \n",
       "2  <s1> <u1> <to:u1> <init> <Negative> This is an...   \n",
       "3  <s1> <u1> <to:u1> <init> <Negative> This is an...   \n",
       "4  <s1> <u1> <to:u1> <init> <Negative> Not exactl...   \n",
       "\n",
       "                                         history_amr  \\\n",
       "0  ( exemplify :ARG0 ( this ) :ARG1 ( disconnect ...   \n",
       "1  ( exemplify :ARG0 ( this ) :ARG1 ( disconnect ...   \n",
       "2  ( exemplify :ARG0 ( this ) :ARG1 ( disconnect ...   \n",
       "3  ( exemplify :ARG0 ( this ) :ARG1 ( disconnect ...   \n",
       "4  ( unite :polarity - :ARG1 ( fan :mod ( city ) ...   \n",
       "\n",
       "                                   history_discourse  \\\n",
       "0  <u1> <to:u1> <init> </s> <u2> <to:u1> <elabora...   \n",
       "1  <u1> <to:u1> <init> </s> <u2> <to:u1> <elabora...   \n",
       "2  <u1> <to:u1> <init> </s> <u2> <to:u1> <agreement>   \n",
       "3  <u1> <to:u1> <init> </s> <u2> <to:u1> <agreement>   \n",
       "4  <u1> <to:u1> <init> </s> <u2> <to:u1> <disagre...   \n",
       "\n",
       "                                            addr_amr  \\\n",
       "0  ( multi-sentence :snt1 ( be-located-at :ARG1 (...   \n",
       "1  ( cause :ARG0 ( have-degree :ARG1 ( build ) :A...   \n",
       "2  ( exact ) ( seem :ARG1 ( label :ARG1 ( or ) :A...   \n",
       "3  ( exact ) ( seem :ARG1 ( label :ARG1 ( or ) :A...   \n",
       "4  ( contrast :ARG1 ( situation :mod ( win ) :mod...   \n",
       "\n",
       "                                            response  \\\n",
       "0  Yes and lets see if it fails and he leaves aft...   \n",
       "1  But if he isn't recasting everyone... I don't ...   \n",
       "2  Yeah, it makes sense. Like the above comment s...   \n",
       "3  I liked the Snyder films, Justice League might...   \n",
       "4  Fuck 'em.I always said this of politics. The o...   \n",
       "\n",
       "                                        response_aug grounding  \\\n",
       "0  <agreement> <Negative> Yes and lets see if it ...       unk   \n",
       "1  <disagreement> <Neutral> But if he isn't recas...       unk   \n",
       "2  <agreement> <Negative> Yeah, it makes sense. L...       unk   \n",
       "3  <unk> <Positive> I liked the Snyder films, Jus...       unk   \n",
       "4  <negativereaction> <Negative> Fuck 'em.I alway...       unk   \n",
       "\n",
       "                                               title  \\\n",
       "0  James Gunn Confronts ‘Uproarious’ DC Backlash:...   \n",
       "1  James Gunn Confronts ‘Uproarious’ DC Backlash:...   \n",
       "2  James Gunn Confronts ‘Uproarious’ DC Backlash:...   \n",
       "3  James Gunn Confronts ‘Uproarious’ DC Backlash:...   \n",
       "4  James Gunn Confronts ‘Uproarious’ DC Backlash:...   \n",
       "\n",
       "                                             history  \\\n",
       "0  <s1> <u1> <to:u1> This is an example of the di...   \n",
       "1  <s1> <u1> <to:u1> This is an example of the di...   \n",
       "2  <s1> <u1> <to:u1> This is an example of the di...   \n",
       "3  <s1> <u1> <to:u1> This is an example of the di...   \n",
       "4  <s1> <u1> <to:u1> Not exactly uniting the DC f...   \n",
       "\n",
       "                                      response_disco  \\\n",
       "0  <agreement> Yes and lets see if it fails and h...   \n",
       "1  <disagreement> But if he isn't recasting every...   \n",
       "2  <agreement> Yeah, it makes sense. Like the abo...   \n",
       "3  <unk> I liked the Snyder films, Justice League...   \n",
       "4  <negativereaction> Fuck 'em.I always said this...   \n",
       "\n",
       "                                   history_aug_disco  \\\n",
       "0  <s1> <u1> <to:u1> <init> This is an example of...   \n",
       "1  <s1> <u1> <to:u1> <init> This is an example of...   \n",
       "2  <s1> <u1> <to:u1> <init> This is an example of...   \n",
       "3  <s1> <u1> <to:u1> <init> This is an example of...   \n",
       "4  <s1> <u1> <to:u1> <init> Not exactly uniting t...   \n",
       "\n",
       "                   history_aug_disco#title#grounding  \\\n",
       "0  <s1> <u1> <to:u1> <init> This is an example of...   \n",
       "1  <s1> <u1> <to:u1> <init> This is an example of...   \n",
       "2  <s1> <u1> <to:u1> <init> This is an example of...   \n",
       "3  <s1> <u1> <to:u1> <init> This is an example of...   \n",
       "4  <s1> <u1> <to:u1> <init> Not exactly uniting t...   \n",
       "\n",
       "                             history#title#grounding  \\\n",
       "0  <s1> <u1> <to:u1> This is an example of the di...   \n",
       "1  <s1> <u1> <to:u1> This is an example of the di...   \n",
       "2  <s1> <u1> <to:u1> This is an example of the di...   \n",
       "3  <s1> <u1> <to:u1> This is an example of the di...   \n",
       "4  <s1> <u1> <to:u1> Not exactly uniting the DC f...   \n",
       "\n",
       "                         history_aug#title#grounding  \\\n",
       "0  <s1> <u1> <to:u1> <init> <Negative> This is an...   \n",
       "1  <s1> <u1> <to:u1> <init> <Negative> This is an...   \n",
       "2  <s1> <u1> <to:u1> <init> <Negative> This is an...   \n",
       "3  <s1> <u1> <to:u1> <init> <Negative> This is an...   \n",
       "4  <s1> <u1> <to:u1> <init> <Negative> Not exactl...   \n",
       "\n",
       "                                       history#title  \n",
       "0  <s1> <u1> <to:u1> This is an example of the di...  \n",
       "1  <s1> <u1> <to:u1> This is an example of the di...  \n",
       "2  <s1> <u1> <to:u1> This is an example of the di...  \n",
       "3  <s1> <u1> <to:u1> This is an example of the di...  \n",
       "4  <s1> <u1> <to:u1> Not exactly uniting the DC f...  "
      ]
     },
     "execution_count": 68,
     "metadata": {},
     "output_type": "execute_result"
    }
   ],
   "source": [
    "test_data.head()"
   ]
  },
  {
   "cell_type": "code",
   "execution_count": 69,
   "metadata": {},
   "outputs": [],
   "source": [
    "input_texts = list(test_data[source_cols].values[10])"
   ]
  },
  {
   "cell_type": "code",
   "execution_count": 70,
   "metadata": {
    "scrolled": true
   },
   "outputs": [
    {
     "data": {
      "text/plain": [
       "['<s1> <u1> <to:u1> <init> I don’t think the next Batman reboot will be getting a solo movie for a loooooong time. After Reeves trilogy. </s> <s2> <u2> <to:u1> <answer> Many think that, but I don’t think it’s true. Gunn said that Batman is a major part of the reboot. I think, in order for the new DC Films to start forming, he’ll need to introduce the new Batman sooner rather than later. </s> <s3> <u3> <to:u2> <elaboration> Batman will be introduced, that doesn’t mean he needs to have his own Standalone films. </s> <s1> <u4> <to:u3> Batman will be introduced, that doesn’t mean he needs to have his own Standalone films. </s> Who should be the main villain of James Gunn\\'s Batman? </s> The Batman is a 2022 American superhero film based on the DC Comics character Batman. Produced by DC Films, 6th & Idaho, and Dylan Clark Productions, and distributed by Warner Bros. Pictures, it is a reboot of the Batman film franchise. The film was directed by Matt Reeves, who wrote the screenplay with Peter Craig. It stars Robert Pattinson as Bruce Wayne / Batman alongside Zoë Kravitz, Paul Dano, Jeffrey Wright, John Turturro, Peter Sarsgaard, Andy Serkis, and Colin Farrell. The Suicide Squad is a 2021 American superhero film based on the DC Comics team Suicide Squad. Produced by DC Films, Atlas Entertainment, and The Safran Company, and distributed by Warner Bros. Pictures, it is a standalone sequel to Suicide Squad (2016) and the 10th film in the DC Extended Universe (DCEU). It was written and directed by James Gunn and stars an ensemble cast including Margot Robbie, Idris Elba, John Cena, Joel Kinnaman, Sylvester Stallone, Viola Davis, David Dastmalchian, Daniela Melchior, Michael Rooker, Jai Courtney, Peter Capaldi, Alice Braga, and Pete Davidson. In the film, several convicts join a task force known as the \"Suicide Squad\" in exchange for lighter sentences. The fictional superhero Batman, who appears in American comic books published by DC Comics, has appeared in various films since his inception. Created by Bob Kane and Bill Finger, the character first starred in two serial films in the 1940s: Batman and Batman and Robin. The character also appeared in the 1966 film Batman, which was a feature film adaptation of the 1960s Batman TV series starring Adam West and Burt Ward, who also starred in the film. Toward the end of the 1980s, the Warner Bros. studio began producing a series of feature films starring Batman, beginning with the 1989 film Batman, directed by Tim Burton and starring Michael Keaton. The DC Extended Universe (DCEU) is an American media franchise and shared universe centered on a series of superhero films and television series produced by DC Studios and distributed by Warner Bros. Pictures. It is based on characters that appear in American comic books published by DC Comics. The DCEU also includes comic books, short films, novels, and video games. Like the original DC Universe in comic books, the DCEU was established by crossing over common plot elements, settings, cast, and characters. The Batman is a 2022 American superhero film based on the DC Comics character Batman. Produced by DC Films, 6th & Idaho, and Dylan Clark Productions, and distributed by Warner Bros. Pictures, it is a reboot of the Batman film franchise. The film was directed by Matt Reeves, who wrote the screenplay with Peter Craig. It stars Robert Pattinson as Bruce Wayne / Batman alongside Zoë Kravitz, Paul Dano, Jeffrey Wright, John Turturro, Peter Sarsgaard, Andy Serkis, and Colin Farrell. The film sees Batman, who has been fighting crime in Gotham City for two years, uncover corruption while pursuing the Riddler (Dano), a serial killer who targets Gotham\\'s corrupt elite. Development began after Ben Affleck was cast as Batman in the DC Extended Universe (DCEU) in 2013. The Suicide Squad is a 2021 American superhero film based on the DC Comics team Suicide Squad. Produced by DC Films, Atlas Entertainment, and The Safran Company, and distributed by Warner Bros. Pictures, it is a standalone sequel to Suicide Squad (2016) and the 10th film in the DC Extended Universe (DCEU). It was written and directed by James Gunn and stars an ensemble cast including Margot Robbie, Idris Elba, John Cena, Joel Kinnaman, Sylvester Stallone, Viola Davis, David Dastmalchian, Daniela Melchior, Michael Rooker, Jai Courtney, Peter Capaldi, Alice Braga, and Pete Davidson. In the film, several convicts join a task force known as the \"Suicide Squad\" in exchange for lighter sentences. They are sent to the South American island nation of Corto Maltese to destroy all traces of the giant alien starfish Starro the Conqueror before it falls into the local government\\'s control. David Ayer was set to return as director for a Suicide Squad sequel by March 2016, but in December he chose to work on other projects. The fictional superhero Batman, who appears in American comic books published by DC Comics, has appeared in various films since his inception. Created by Bob Kane and Bill Finger, the character first starred in two serial films in the 1940s: Batman and Batman and Robin. The character also appeared in the 1966 film Batman, which was a feature film adaptation of the 1960s Batman TV series starring Adam West and Burt Ward, who also starred in the film. Toward the end of the 1980s, the Warner Bros. studio began producing a series of feature films starring Batman, beginning with the 1989 film Batman, directed by Tim Burton and starring Michael Keaton. Burton and Keaton returned for the 1992 sequel Batman Returns, and in 1995, Joel Schumacher directed Batman Forever with Val Kilmer as Batman. Schumacher also directed the 1997 sequel Batman & Robin, which starred George Clooney. The DC Extended Universe (DCEU) is an American media franchise and shared universe centered on a series of superhero films and television series produced by DC Studios and distributed by Warner Bros. Pictures. It is based on characters that appear in American comic books published by DC Comics. The DCEU also includes comic books, short films, novels, and video games. Like the original DC Universe in comic books, the DCEU was established by crossing over common plot elements, settings, cast, and characters. Warner Bros. had plans to bring various DC Comics superheroes together in films since 2002, when Wolfgang Petersen was set to direct a crossover of the Superman and Batman film franchises.',\n",
       " '<s1> <u1> <to:u1> <init> I don’t think the next Batman reboot will be getting a solo movie for a loooooong time. After Reeves trilogy. </s> <s2> <u2> <to:u1> <answer> Many think that, but I don’t think it’s true. Gunn said that Batman is a major part of the reboot. I think, in order for the new DC Films to start forming, he’ll need to introduce the new Batman sooner rather than later. </s> <s3> <u3> <to:u2> <elaboration> Batman will be introduced, that doesn’t mean he needs to have his own Standalone films. </s> <s1> <u4> <to:u3> Batman will be introduced, that doesn’t mean he needs to have his own Standalone films.',\n",
       " \"Who should be the main villain of James Gunn's Batman?\",\n",
       " 'The Batman is a 2022 American superhero film based on the DC Comics character Batman. Produced by DC Films, 6th & Idaho, and Dylan Clark Productions, and distributed by Warner Bros. Pictures, it is a reboot of the Batman film franchise. The film was directed by Matt Reeves, who wrote the screenplay with Peter Craig. It stars Robert Pattinson as Bruce Wayne / Batman alongside Zoë Kravitz, Paul Dano, Jeffrey Wright, John Turturro, Peter Sarsgaard, Andy Serkis, and Colin Farrell. The Suicide Squad is a 2021 American superhero film based on the DC Comics team Suicide Squad. Produced by DC Films, Atlas Entertainment, and The Safran Company, and distributed by Warner Bros. Pictures, it is a standalone sequel to Suicide Squad (2016) and the 10th film in the DC Extended Universe (DCEU). It was written and directed by James Gunn and stars an ensemble cast including Margot Robbie, Idris Elba, John Cena, Joel Kinnaman, Sylvester Stallone, Viola Davis, David Dastmalchian, Daniela Melchior, Michael Rooker, Jai Courtney, Peter Capaldi, Alice Braga, and Pete Davidson. In the film, several convicts join a task force known as the \"Suicide Squad\" in exchange for lighter sentences. The fictional superhero Batman, who appears in American comic books published by DC Comics, has appeared in various films since his inception. Created by Bob Kane and Bill Finger, the character first starred in two serial films in the 1940s: Batman and Batman and Robin. The character also appeared in the 1966 film Batman, which was a feature film adaptation of the 1960s Batman TV series starring Adam West and Burt Ward, who also starred in the film. Toward the end of the 1980s, the Warner Bros. studio began producing a series of feature films starring Batman, beginning with the 1989 film Batman, directed by Tim Burton and starring Michael Keaton. The DC Extended Universe (DCEU) is an American media franchise and shared universe centered on a series of superhero films and television series produced by DC Studios and distributed by Warner Bros. Pictures. It is based on characters that appear in American comic books published by DC Comics. The DCEU also includes comic books, short films, novels, and video games. Like the original DC Universe in comic books, the DCEU was established by crossing over common plot elements, settings, cast, and characters. The Batman is a 2022 American superhero film based on the DC Comics character Batman. Produced by DC Films, 6th & Idaho, and Dylan Clark Productions, and distributed by Warner Bros. Pictures, it is a reboot of the Batman film franchise. The film was directed by Matt Reeves, who wrote the screenplay with Peter Craig. It stars Robert Pattinson as Bruce Wayne / Batman alongside Zoë Kravitz, Paul Dano, Jeffrey Wright, John Turturro, Peter Sarsgaard, Andy Serkis, and Colin Farrell. The film sees Batman, who has been fighting crime in Gotham City for two years, uncover corruption while pursuing the Riddler (Dano), a serial killer who targets Gotham\\'s corrupt elite. Development began after Ben Affleck was cast as Batman in the DC Extended Universe (DCEU) in 2013. The Suicide Squad is a 2021 American superhero film based on the DC Comics team Suicide Squad. Produced by DC Films, Atlas Entertainment, and The Safran Company, and distributed by Warner Bros. Pictures, it is a standalone sequel to Suicide Squad (2016) and the 10th film in the DC Extended Universe (DCEU). It was written and directed by James Gunn and stars an ensemble cast including Margot Robbie, Idris Elba, John Cena, Joel Kinnaman, Sylvester Stallone, Viola Davis, David Dastmalchian, Daniela Melchior, Michael Rooker, Jai Courtney, Peter Capaldi, Alice Braga, and Pete Davidson. In the film, several convicts join a task force known as the \"Suicide Squad\" in exchange for lighter sentences. They are sent to the South American island nation of Corto Maltese to destroy all traces of the giant alien starfish Starro the Conqueror before it falls into the local government\\'s control. David Ayer was set to return as director for a Suicide Squad sequel by March 2016, but in December he chose to work on other projects. The fictional superhero Batman, who appears in American comic books published by DC Comics, has appeared in various films since his inception. Created by Bob Kane and Bill Finger, the character first starred in two serial films in the 1940s: Batman and Batman and Robin. The character also appeared in the 1966 film Batman, which was a feature film adaptation of the 1960s Batman TV series starring Adam West and Burt Ward, who also starred in the film. Toward the end of the 1980s, the Warner Bros. studio began producing a series of feature films starring Batman, beginning with the 1989 film Batman, directed by Tim Burton and starring Michael Keaton. Burton and Keaton returned for the 1992 sequel Batman Returns, and in 1995, Joel Schumacher directed Batman Forever with Val Kilmer as Batman. Schumacher also directed the 1997 sequel Batman & Robin, which starred George Clooney. The DC Extended Universe (DCEU) is an American media franchise and shared universe centered on a series of superhero films and television series produced by DC Studios and distributed by Warner Bros. Pictures. It is based on characters that appear in American comic books published by DC Comics. The DCEU also includes comic books, short films, novels, and video games. Like the original DC Universe in comic books, the DCEU was established by crossing over common plot elements, settings, cast, and characters. Warner Bros. had plans to bring various DC Comics superheroes together in films since 2002, when Wolfgang Petersen was set to direct a crossover of the Superman and Batman film franchises.',\n",
       " '<u1> <to:u1> <init> </s> <u2> <to:u1> <answer> </s> <u3> <to:u2> <elaboration>']"
      ]
     },
     "execution_count": 70,
     "metadata": {},
     "output_type": "execute_result"
    }
   ],
   "source": [
    "input_texts"
   ]
  },
  {
   "cell_type": "code",
   "execution_count": 71,
   "metadata": {},
   "outputs": [
    {
     "data": {
      "text/plain": [
       "'You’re right that Batman was Superman in the first comic. There will be a Batman to be introduced for the DCU. The Justice League and the upcoming Justice League films will be Batman shows. The Batman and the Justice League events (Jokes for Justice League) are in the ongoing DCEU. There’s just no way a Batman story is going to have all that much exposition. Gunn is on his way to throwing in a Batman origin (maybe with Bruce Wayne and Matt Reeves, not Superman).'"
      ]
     },
     "execution_count": 71,
     "metadata": {},
     "output_type": "execute_result"
    }
   ],
   "source": [
    "generate_custom(input_texts)"
   ]
  },
  {
   "cell_type": "code",
   "execution_count": null,
   "metadata": {},
   "outputs": [],
   "source": []
  },
  {
   "cell_type": "code",
   "execution_count": null,
   "metadata": {},
   "outputs": [],
   "source": []
  },
  {
   "cell_type": "code",
   "execution_count": null,
   "metadata": {},
   "outputs": [],
   "source": []
  }
 ],
 "metadata": {
  "kernelspec": {
   "display_name": "Python 3 (ipykernel)",
   "language": "python",
   "name": "python3"
  },
  "language_info": {
   "codemirror_mode": {
    "name": "ipython",
    "version": 3
   },
   "file_extension": ".py",
   "mimetype": "text/x-python",
   "name": "python",
   "nbconvert_exporter": "python",
   "pygments_lexer": "ipython3",
   "version": "3.11.4"
  }
 },
 "nbformat": 4,
 "nbformat_minor": 2
}
